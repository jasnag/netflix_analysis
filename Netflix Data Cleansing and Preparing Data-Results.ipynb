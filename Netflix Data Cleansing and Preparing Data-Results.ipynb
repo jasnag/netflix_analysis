{
 "cells": [
  {
   "cell_type": "code",
   "execution_count": 1,
   "id": "8dc9688e",
   "metadata": {},
   "outputs": [],
   "source": [
    "import pandas as pd\n",
    "import numpy as np"
   ]
  },
  {
   "cell_type": "code",
   "execution_count": 2,
   "id": "4b546c2e",
   "metadata": {
    "scrolled": true
   },
   "outputs": [
    {
     "data": {
      "text/html": [
       "<div>\n",
       "<style scoped>\n",
       "    .dataframe tbody tr th:only-of-type {\n",
       "        vertical-align: middle;\n",
       "    }\n",
       "\n",
       "    .dataframe tbody tr th {\n",
       "        vertical-align: top;\n",
       "    }\n",
       "\n",
       "    .dataframe thead th {\n",
       "        text-align: right;\n",
       "    }\n",
       "</style>\n",
       "<table border=\"1\" class=\"dataframe\">\n",
       "  <thead>\n",
       "    <tr style=\"text-align: right;\">\n",
       "      <th></th>\n",
       "      <th>show_id</th>\n",
       "      <th>type</th>\n",
       "      <th>title</th>\n",
       "      <th>director</th>\n",
       "      <th>cast</th>\n",
       "      <th>country</th>\n",
       "      <th>date_added</th>\n",
       "      <th>release_year</th>\n",
       "      <th>rating</th>\n",
       "      <th>duration</th>\n",
       "      <th>listed_in</th>\n",
       "      <th>description</th>\n",
       "    </tr>\n",
       "  </thead>\n",
       "  <tbody>\n",
       "    <tr>\n",
       "      <th>0</th>\n",
       "      <td>s1</td>\n",
       "      <td>Movie</td>\n",
       "      <td>Dick Johnson Is Dead</td>\n",
       "      <td>Kirsten Johnson</td>\n",
       "      <td>NaN</td>\n",
       "      <td>United States</td>\n",
       "      <td>September 25, 2021</td>\n",
       "      <td>2020</td>\n",
       "      <td>PG-13</td>\n",
       "      <td>90 min</td>\n",
       "      <td>Documentaries</td>\n",
       "      <td>As her father nears the end of his life, filmm...</td>\n",
       "    </tr>\n",
       "    <tr>\n",
       "      <th>1</th>\n",
       "      <td>s2</td>\n",
       "      <td>TV Show</td>\n",
       "      <td>Blood &amp; Water</td>\n",
       "      <td>NaN</td>\n",
       "      <td>Ama Qamata, Khosi Ngema, Gail Mabalane, Thaban...</td>\n",
       "      <td>South Africa</td>\n",
       "      <td>September 24, 2021</td>\n",
       "      <td>2021</td>\n",
       "      <td>TV-MA</td>\n",
       "      <td>2 Seasons</td>\n",
       "      <td>International TV Shows, TV Dramas, TV Mysteries</td>\n",
       "      <td>After crossing paths at a party, a Cape Town t...</td>\n",
       "    </tr>\n",
       "    <tr>\n",
       "      <th>2</th>\n",
       "      <td>s3</td>\n",
       "      <td>TV Show</td>\n",
       "      <td>Ganglands</td>\n",
       "      <td>Julien Leclercq</td>\n",
       "      <td>Sami Bouajila, Tracy Gotoas, Samuel Jouy, Nabi...</td>\n",
       "      <td>NaN</td>\n",
       "      <td>September 24, 2021</td>\n",
       "      <td>2021</td>\n",
       "      <td>TV-MA</td>\n",
       "      <td>1 Season</td>\n",
       "      <td>Crime TV Shows, International TV Shows, TV Act...</td>\n",
       "      <td>To protect his family from a powerful drug lor...</td>\n",
       "    </tr>\n",
       "    <tr>\n",
       "      <th>3</th>\n",
       "      <td>s4</td>\n",
       "      <td>TV Show</td>\n",
       "      <td>Jailbirds New Orleans</td>\n",
       "      <td>NaN</td>\n",
       "      <td>NaN</td>\n",
       "      <td>NaN</td>\n",
       "      <td>September 24, 2021</td>\n",
       "      <td>2021</td>\n",
       "      <td>TV-MA</td>\n",
       "      <td>1 Season</td>\n",
       "      <td>Docuseries, Reality TV</td>\n",
       "      <td>Feuds, flirtations and toilet talk go down amo...</td>\n",
       "    </tr>\n",
       "    <tr>\n",
       "      <th>4</th>\n",
       "      <td>s5</td>\n",
       "      <td>TV Show</td>\n",
       "      <td>Kota Factory</td>\n",
       "      <td>NaN</td>\n",
       "      <td>Mayur More, Jitendra Kumar, Ranjan Raj, Alam K...</td>\n",
       "      <td>India</td>\n",
       "      <td>September 24, 2021</td>\n",
       "      <td>2021</td>\n",
       "      <td>TV-MA</td>\n",
       "      <td>2 Seasons</td>\n",
       "      <td>International TV Shows, Romantic TV Shows, TV ...</td>\n",
       "      <td>In a city of coaching centers known to train I...</td>\n",
       "    </tr>\n",
       "  </tbody>\n",
       "</table>\n",
       "</div>"
      ],
      "text/plain": [
       "  show_id     type                  title         director  \\\n",
       "0      s1    Movie   Dick Johnson Is Dead  Kirsten Johnson   \n",
       "1      s2  TV Show          Blood & Water              NaN   \n",
       "2      s3  TV Show              Ganglands  Julien Leclercq   \n",
       "3      s4  TV Show  Jailbirds New Orleans              NaN   \n",
       "4      s5  TV Show           Kota Factory              NaN   \n",
       "\n",
       "                                                cast        country  \\\n",
       "0                                                NaN  United States   \n",
       "1  Ama Qamata, Khosi Ngema, Gail Mabalane, Thaban...   South Africa   \n",
       "2  Sami Bouajila, Tracy Gotoas, Samuel Jouy, Nabi...            NaN   \n",
       "3                                                NaN            NaN   \n",
       "4  Mayur More, Jitendra Kumar, Ranjan Raj, Alam K...          India   \n",
       "\n",
       "           date_added  release_year rating   duration  \\\n",
       "0  September 25, 2021          2020  PG-13     90 min   \n",
       "1  September 24, 2021          2021  TV-MA  2 Seasons   \n",
       "2  September 24, 2021          2021  TV-MA   1 Season   \n",
       "3  September 24, 2021          2021  TV-MA   1 Season   \n",
       "4  September 24, 2021          2021  TV-MA  2 Seasons   \n",
       "\n",
       "                                           listed_in  \\\n",
       "0                                      Documentaries   \n",
       "1    International TV Shows, TV Dramas, TV Mysteries   \n",
       "2  Crime TV Shows, International TV Shows, TV Act...   \n",
       "3                             Docuseries, Reality TV   \n",
       "4  International TV Shows, Romantic TV Shows, TV ...   \n",
       "\n",
       "                                         description  \n",
       "0  As her father nears the end of his life, filmm...  \n",
       "1  After crossing paths at a party, a Cape Town t...  \n",
       "2  To protect his family from a powerful drug lor...  \n",
       "3  Feuds, flirtations and toilet talk go down amo...  \n",
       "4  In a city of coaching centers known to train I...  "
      ]
     },
     "execution_count": 2,
     "metadata": {},
     "output_type": "execute_result"
    }
   ],
   "source": [
    "# Read from saved file\n",
    "df = pd.read_csv(r\"C:\\Users\\jaroo\\OneDrive\\Documents\\netflix_titles.csv\") # <change the file path>\n",
    "df.head()"
   ]
  },
  {
   "cell_type": "markdown",
   "id": "316097e6",
   "metadata": {},
   "source": [
    "### Checking data"
   ]
  },
  {
   "cell_type": "code",
   "execution_count": 3,
   "id": "cba72032",
   "metadata": {},
   "outputs": [
    {
     "data": {
      "text/plain": [
       "(8807, 12)"
      ]
     },
     "execution_count": 3,
     "metadata": {},
     "output_type": "execute_result"
    }
   ],
   "source": [
    "# Check the row count\n",
    "df.shape"
   ]
  },
  {
   "cell_type": "code",
   "execution_count": 4,
   "id": "149f9493",
   "metadata": {},
   "outputs": [
    {
     "name": "stdout",
     "output_type": "stream",
     "text": [
      "<class 'pandas.core.frame.DataFrame'>\n",
      "RangeIndex: 8807 entries, 0 to 8806\n",
      "Data columns (total 12 columns):\n",
      " #   Column        Non-Null Count  Dtype \n",
      "---  ------        --------------  ----- \n",
      " 0   show_id       8807 non-null   object\n",
      " 1   type          8807 non-null   object\n",
      " 2   title         8807 non-null   object\n",
      " 3   director      6173 non-null   object\n",
      " 4   cast          7982 non-null   object\n",
      " 5   country       7976 non-null   object\n",
      " 6   date_added    8797 non-null   object\n",
      " 7   release_year  8807 non-null   int64 \n",
      " 8   rating        8803 non-null   object\n",
      " 9   duration      8804 non-null   object\n",
      " 10  listed_in     8807 non-null   object\n",
      " 11  description   8807 non-null   object\n",
      "dtypes: int64(1), object(11)\n",
      "memory usage: 825.8+ KB\n"
     ]
    }
   ],
   "source": [
    "# To see high level data details\n",
    "df.info()"
   ]
  },
  {
   "cell_type": "code",
   "execution_count": 5,
   "id": "0d363c21",
   "metadata": {},
   "outputs": [
    {
     "data": {
      "text/plain": [
       "director        2634\n",
       "country          831\n",
       "cast             825\n",
       "date_added        10\n",
       "rating             4\n",
       "duration           3\n",
       "show_id            0\n",
       "type               0\n",
       "title              0\n",
       "release_year       0\n",
       "listed_in          0\n",
       "description        0\n",
       "dtype: int64"
      ]
     },
     "execution_count": 5,
     "metadata": {},
     "output_type": "execute_result"
    }
   ],
   "source": [
    "# checking for null values\n",
    "df.isnull().sum().sort_values(ascending=False)"
   ]
  },
  {
   "cell_type": "markdown",
   "id": "918f93a7",
   "metadata": {},
   "source": [
    "### Handling Manual input error"
   ]
  },
  {
   "cell_type": "code",
   "execution_count": 6,
   "id": "1652911d",
   "metadata": {},
   "outputs": [
    {
     "data": {
      "text/html": [
       "<div>\n",
       "<style scoped>\n",
       "    .dataframe tbody tr th:only-of-type {\n",
       "        vertical-align: middle;\n",
       "    }\n",
       "\n",
       "    .dataframe tbody tr th {\n",
       "        vertical-align: top;\n",
       "    }\n",
       "\n",
       "    .dataframe thead th {\n",
       "        text-align: right;\n",
       "    }\n",
       "</style>\n",
       "<table border=\"1\" class=\"dataframe\">\n",
       "  <thead>\n",
       "    <tr style=\"text-align: right;\">\n",
       "      <th></th>\n",
       "      <th>show_id</th>\n",
       "      <th>type</th>\n",
       "      <th>title</th>\n",
       "      <th>director</th>\n",
       "      <th>cast</th>\n",
       "      <th>country</th>\n",
       "      <th>date_added</th>\n",
       "      <th>release_year</th>\n",
       "      <th>rating</th>\n",
       "      <th>duration</th>\n",
       "      <th>listed_in</th>\n",
       "      <th>description</th>\n",
       "    </tr>\n",
       "  </thead>\n",
       "  <tbody>\n",
       "    <tr>\n",
       "      <th>5541</th>\n",
       "      <td>s5542</td>\n",
       "      <td>Movie</td>\n",
       "      <td>Louis C.K. 2017</td>\n",
       "      <td>Louis C.K.</td>\n",
       "      <td>Louis C.K.</td>\n",
       "      <td>United States</td>\n",
       "      <td>April 4, 2017</td>\n",
       "      <td>2017</td>\n",
       "      <td>74 min</td>\n",
       "      <td>NaN</td>\n",
       "      <td>Movies</td>\n",
       "      <td>Louis C.K. muses on religion, eternal love, gi...</td>\n",
       "    </tr>\n",
       "    <tr>\n",
       "      <th>5794</th>\n",
       "      <td>s5795</td>\n",
       "      <td>Movie</td>\n",
       "      <td>Louis C.K.: Hilarious</td>\n",
       "      <td>Louis C.K.</td>\n",
       "      <td>Louis C.K.</td>\n",
       "      <td>United States</td>\n",
       "      <td>September 16, 2016</td>\n",
       "      <td>2010</td>\n",
       "      <td>84 min</td>\n",
       "      <td>NaN</td>\n",
       "      <td>Movies</td>\n",
       "      <td>Emmy-winning comedy writer Louis C.K. brings h...</td>\n",
       "    </tr>\n",
       "    <tr>\n",
       "      <th>5813</th>\n",
       "      <td>s5814</td>\n",
       "      <td>Movie</td>\n",
       "      <td>Louis C.K.: Live at the Comedy Store</td>\n",
       "      <td>Louis C.K.</td>\n",
       "      <td>Louis C.K.</td>\n",
       "      <td>United States</td>\n",
       "      <td>August 15, 2016</td>\n",
       "      <td>2015</td>\n",
       "      <td>66 min</td>\n",
       "      <td>NaN</td>\n",
       "      <td>Movies</td>\n",
       "      <td>The comic puts his trademark hilarious/thought...</td>\n",
       "    </tr>\n",
       "  </tbody>\n",
       "</table>\n",
       "</div>"
      ],
      "text/plain": [
       "     show_id   type                                 title    director  \\\n",
       "5541   s5542  Movie                       Louis C.K. 2017  Louis C.K.   \n",
       "5794   s5795  Movie                 Louis C.K.: Hilarious  Louis C.K.   \n",
       "5813   s5814  Movie  Louis C.K.: Live at the Comedy Store  Louis C.K.   \n",
       "\n",
       "            cast        country          date_added  release_year  rating  \\\n",
       "5541  Louis C.K.  United States       April 4, 2017          2017  74 min   \n",
       "5794  Louis C.K.  United States  September 16, 2016          2010  84 min   \n",
       "5813  Louis C.K.  United States     August 15, 2016          2015  66 min   \n",
       "\n",
       "     duration listed_in                                        description  \n",
       "5541      NaN    Movies  Louis C.K. muses on religion, eternal love, gi...  \n",
       "5794      NaN    Movies  Emmy-winning comedy writer Louis C.K. brings h...  \n",
       "5813      NaN    Movies  The comic puts his trademark hilarious/thought...  "
      ]
     },
     "execution_count": 6,
     "metadata": {},
     "output_type": "execute_result"
    }
   ],
   "source": [
    "# Findout manual input error for duration\n",
    "df[df['duration'].isnull()]"
   ]
  },
  {
   "cell_type": "code",
   "execution_count": 7,
   "id": "44054092",
   "metadata": {},
   "outputs": [
    {
     "data": {
      "text/html": [
       "<div>\n",
       "<style scoped>\n",
       "    .dataframe tbody tr th:only-of-type {\n",
       "        vertical-align: middle;\n",
       "    }\n",
       "\n",
       "    .dataframe tbody tr th {\n",
       "        vertical-align: top;\n",
       "    }\n",
       "\n",
       "    .dataframe thead th {\n",
       "        text-align: right;\n",
       "    }\n",
       "</style>\n",
       "<table border=\"1\" class=\"dataframe\">\n",
       "  <thead>\n",
       "    <tr style=\"text-align: right;\">\n",
       "      <th></th>\n",
       "      <th>show_id</th>\n",
       "      <th>type</th>\n",
       "      <th>title</th>\n",
       "      <th>director</th>\n",
       "      <th>cast</th>\n",
       "      <th>country</th>\n",
       "      <th>date_added</th>\n",
       "      <th>release_year</th>\n",
       "      <th>rating</th>\n",
       "      <th>duration</th>\n",
       "      <th>listed_in</th>\n",
       "      <th>description</th>\n",
       "    </tr>\n",
       "  </thead>\n",
       "  <tbody>\n",
       "    <tr>\n",
       "      <th>5541</th>\n",
       "      <td>s5542</td>\n",
       "      <td>Movie</td>\n",
       "      <td>Louis C.K. 2017</td>\n",
       "      <td>Louis C.K.</td>\n",
       "      <td>Louis C.K.</td>\n",
       "      <td>United States</td>\n",
       "      <td>April 4, 2017</td>\n",
       "      <td>2017</td>\n",
       "      <td>Unknown</td>\n",
       "      <td>74 min</td>\n",
       "      <td>Movies</td>\n",
       "      <td>Louis C.K. muses on religion, eternal love, gi...</td>\n",
       "    </tr>\n",
       "    <tr>\n",
       "      <th>5794</th>\n",
       "      <td>s5795</td>\n",
       "      <td>Movie</td>\n",
       "      <td>Louis C.K.: Hilarious</td>\n",
       "      <td>Louis C.K.</td>\n",
       "      <td>Louis C.K.</td>\n",
       "      <td>United States</td>\n",
       "      <td>September 16, 2016</td>\n",
       "      <td>2010</td>\n",
       "      <td>Unknown</td>\n",
       "      <td>84 min</td>\n",
       "      <td>Movies</td>\n",
       "      <td>Emmy-winning comedy writer Louis C.K. brings h...</td>\n",
       "    </tr>\n",
       "    <tr>\n",
       "      <th>5813</th>\n",
       "      <td>s5814</td>\n",
       "      <td>Movie</td>\n",
       "      <td>Louis C.K.: Live at the Comedy Store</td>\n",
       "      <td>Louis C.K.</td>\n",
       "      <td>Louis C.K.</td>\n",
       "      <td>United States</td>\n",
       "      <td>August 15, 2016</td>\n",
       "      <td>2015</td>\n",
       "      <td>Unknown</td>\n",
       "      <td>66 min</td>\n",
       "      <td>Movies</td>\n",
       "      <td>The comic puts his trademark hilarious/thought...</td>\n",
       "    </tr>\n",
       "  </tbody>\n",
       "</table>\n",
       "</div>"
      ],
      "text/plain": [
       "     show_id   type                                 title    director  \\\n",
       "5541   s5542  Movie                       Louis C.K. 2017  Louis C.K.   \n",
       "5794   s5795  Movie                 Louis C.K.: Hilarious  Louis C.K.   \n",
       "5813   s5814  Movie  Louis C.K.: Live at the Comedy Store  Louis C.K.   \n",
       "\n",
       "            cast        country          date_added  release_year   rating  \\\n",
       "5541  Louis C.K.  United States       April 4, 2017          2017  Unknown   \n",
       "5794  Louis C.K.  United States  September 16, 2016          2010  Unknown   \n",
       "5813  Louis C.K.  United States     August 15, 2016          2015  Unknown   \n",
       "\n",
       "     duration listed_in                                        description  \n",
       "5541   74 min    Movies  Louis C.K. muses on religion, eternal love, gi...  \n",
       "5794   84 min    Movies  Emmy-winning comedy writer Louis C.K. brings h...  \n",
       "5813   66 min    Movies  The comic puts his trademark hilarious/thought...  "
      ]
     },
     "execution_count": 7,
     "metadata": {},
     "output_type": "execute_result"
    }
   ],
   "source": [
    "# Correcting manual input by replacing rating to duration\n",
    "df.loc[df['director']=='Louis C.K.','duration'] =df['rating']\n",
    "df.loc[df['director']=='Louis C.K.','rating'] ='Unknown'\n",
    "df[df['director']=='Louis C.K.']"
   ]
  },
  {
   "cell_type": "markdown",
   "id": "1353e494",
   "metadata": {},
   "source": [
    "### Handling null values"
   ]
  },
  {
   "cell_type": "code",
   "execution_count": 8,
   "id": "9cbf64bb",
   "metadata": {},
   "outputs": [
    {
     "data": {
      "text/plain": [
       "director        29.91\n",
       "country          9.44\n",
       "cast             9.37\n",
       "date_added       0.11\n",
       "rating           0.05\n",
       "show_id          0.00\n",
       "type             0.00\n",
       "title            0.00\n",
       "release_year     0.00\n",
       "duration         0.00\n",
       "listed_in        0.00\n",
       "description      0.00\n",
       "dtype: float64"
      ]
     },
     "execution_count": 8,
     "metadata": {},
     "output_type": "execute_result"
    }
   ],
   "source": [
    "# Checking the percentage of null values overall\n",
    "round(df.isnull().sum()/df.shape[0]*100,2).sort_values(ascending=False)"
   ]
  },
  {
   "cell_type": "code",
   "execution_count": 9,
   "id": "08f32e83",
   "metadata": {},
   "outputs": [
    {
     "data": {
      "text/plain": [
       "(8793, 12)"
      ]
     },
     "execution_count": 9,
     "metadata": {},
     "output_type": "execute_result"
    }
   ],
   "source": [
    "# dropping rows fpr small percentages if nulls \n",
    "df.dropna(subset=['rating','date_added'],axis=0, inplace=True)\n",
    "df.shape"
   ]
  },
  {
   "cell_type": "code",
   "execution_count": 10,
   "id": "464e8e06",
   "metadata": {},
   "outputs": [
    {
     "data": {
      "text/plain": [
       "director        29.81\n",
       "country          9.43\n",
       "cast             9.38\n",
       "show_id          0.00\n",
       "type             0.00\n",
       "title            0.00\n",
       "date_added       0.00\n",
       "release_year     0.00\n",
       "rating           0.00\n",
       "duration         0.00\n",
       "listed_in        0.00\n",
       "description      0.00\n",
       "dtype: float64"
      ]
     },
     "execution_count": 10,
     "metadata": {},
     "output_type": "execute_result"
    }
   ],
   "source": [
    "round(df.isnull().sum()/df.shape[0]*100,2).sort_values(ascending=False)"
   ]
  },
  {
   "cell_type": "code",
   "execution_count": 11,
   "id": "67ed09d3",
   "metadata": {},
   "outputs": [
    {
     "data": {
      "text/plain": [
       "show_id         0\n",
       "type            0\n",
       "title           0\n",
       "director        0\n",
       "cast            0\n",
       "country         0\n",
       "date_added      0\n",
       "release_year    0\n",
       "rating          0\n",
       "duration        0\n",
       "listed_in       0\n",
       "description     0\n",
       "dtype: int64"
      ]
     },
     "execution_count": 11,
     "metadata": {},
     "output_type": "execute_result"
    }
   ],
   "source": [
    "# Replace nan values with appropriate values\n",
    "df['country'].replace(np.nan,'United States',inplace = True)\n",
    "df['director'].replace(np.nan, 'Unknown', inplace = True)\n",
    "df['cast'].replace(np.nan,'Unknown', inplace = True)\n",
    "df.isnull().sum().sort_values(ascending=False)"
   ]
  },
  {
   "cell_type": "markdown",
   "id": "222b645a",
   "metadata": {},
   "source": [
    "### Handling duplicates data"
   ]
  },
  {
   "cell_type": "code",
   "execution_count": 12,
   "id": "8c6caa4f",
   "metadata": {},
   "outputs": [
    {
     "data": {
      "text/plain": [
       "(8793, 12)"
      ]
     },
     "execution_count": 12,
     "metadata": {},
     "output_type": "execute_result"
    }
   ],
   "source": [
    "# Dropping duplicates\n",
    "df.drop_duplicates(inplace=True)\n",
    "df.shape"
   ]
  },
  {
   "cell_type": "markdown",
   "id": "70ccbe63",
   "metadata": {},
   "source": [
    "### Changing column type by cleaning column data"
   ]
  },
  {
   "cell_type": "code",
   "execution_count": 13,
   "id": "f563380f",
   "metadata": {
    "scrolled": true
   },
   "outputs": [
    {
     "data": {
      "text/html": [
       "<div>\n",
       "<style scoped>\n",
       "    .dataframe tbody tr th:only-of-type {\n",
       "        vertical-align: middle;\n",
       "    }\n",
       "\n",
       "    .dataframe tbody tr th {\n",
       "        vertical-align: top;\n",
       "    }\n",
       "\n",
       "    .dataframe thead th {\n",
       "        text-align: right;\n",
       "    }\n",
       "</style>\n",
       "<table border=\"1\" class=\"dataframe\">\n",
       "  <thead>\n",
       "    <tr style=\"text-align: right;\">\n",
       "      <th></th>\n",
       "      <th>show_id</th>\n",
       "      <th>type</th>\n",
       "      <th>title</th>\n",
       "      <th>director</th>\n",
       "      <th>cast</th>\n",
       "      <th>country</th>\n",
       "      <th>date_added</th>\n",
       "      <th>release_year</th>\n",
       "      <th>rating</th>\n",
       "      <th>duration</th>\n",
       "      <th>listed_in</th>\n",
       "      <th>description</th>\n",
       "    </tr>\n",
       "  </thead>\n",
       "  <tbody>\n",
       "    <tr>\n",
       "      <th>0</th>\n",
       "      <td>s1</td>\n",
       "      <td>Movie</td>\n",
       "      <td>Dick Johnson Is Dead</td>\n",
       "      <td>Kirsten Johnson</td>\n",
       "      <td>Unknown</td>\n",
       "      <td>United States</td>\n",
       "      <td>September 25, 2021</td>\n",
       "      <td>2020</td>\n",
       "      <td>PG-13</td>\n",
       "      <td>90</td>\n",
       "      <td>Documentaries</td>\n",
       "      <td>As her father nears the end of his life, filmm...</td>\n",
       "    </tr>\n",
       "    <tr>\n",
       "      <th>1</th>\n",
       "      <td>s2</td>\n",
       "      <td>TV Show</td>\n",
       "      <td>Blood &amp; Water</td>\n",
       "      <td>Unknown</td>\n",
       "      <td>Ama Qamata, Khosi Ngema, Gail Mabalane, Thaban...</td>\n",
       "      <td>South Africa</td>\n",
       "      <td>September 24, 2021</td>\n",
       "      <td>2021</td>\n",
       "      <td>TV-MA</td>\n",
       "      <td>2</td>\n",
       "      <td>International TV Shows, TV Dramas, TV Mysteries</td>\n",
       "      <td>After crossing paths at a party, a Cape Town t...</td>\n",
       "    </tr>\n",
       "    <tr>\n",
       "      <th>2</th>\n",
       "      <td>s3</td>\n",
       "      <td>TV Show</td>\n",
       "      <td>Ganglands</td>\n",
       "      <td>Julien Leclercq</td>\n",
       "      <td>Sami Bouajila, Tracy Gotoas, Samuel Jouy, Nabi...</td>\n",
       "      <td>United States</td>\n",
       "      <td>September 24, 2021</td>\n",
       "      <td>2021</td>\n",
       "      <td>TV-MA</td>\n",
       "      <td>1</td>\n",
       "      <td>Crime TV Shows, International TV Shows, TV Act...</td>\n",
       "      <td>To protect his family from a powerful drug lor...</td>\n",
       "    </tr>\n",
       "    <tr>\n",
       "      <th>3</th>\n",
       "      <td>s4</td>\n",
       "      <td>TV Show</td>\n",
       "      <td>Jailbirds New Orleans</td>\n",
       "      <td>Unknown</td>\n",
       "      <td>Unknown</td>\n",
       "      <td>United States</td>\n",
       "      <td>September 24, 2021</td>\n",
       "      <td>2021</td>\n",
       "      <td>TV-MA</td>\n",
       "      <td>1</td>\n",
       "      <td>Docuseries, Reality TV</td>\n",
       "      <td>Feuds, flirtations and toilet talk go down amo...</td>\n",
       "    </tr>\n",
       "    <tr>\n",
       "      <th>4</th>\n",
       "      <td>s5</td>\n",
       "      <td>TV Show</td>\n",
       "      <td>Kota Factory</td>\n",
       "      <td>Unknown</td>\n",
       "      <td>Mayur More, Jitendra Kumar, Ranjan Raj, Alam K...</td>\n",
       "      <td>India</td>\n",
       "      <td>September 24, 2021</td>\n",
       "      <td>2021</td>\n",
       "      <td>TV-MA</td>\n",
       "      <td>2</td>\n",
       "      <td>International TV Shows, Romantic TV Shows, TV ...</td>\n",
       "      <td>In a city of coaching centers known to train I...</td>\n",
       "    </tr>\n",
       "  </tbody>\n",
       "</table>\n",
       "</div>"
      ],
      "text/plain": [
       "  show_id     type                  title         director  \\\n",
       "0      s1    Movie   Dick Johnson Is Dead  Kirsten Johnson   \n",
       "1      s2  TV Show          Blood & Water          Unknown   \n",
       "2      s3  TV Show              Ganglands  Julien Leclercq   \n",
       "3      s4  TV Show  Jailbirds New Orleans          Unknown   \n",
       "4      s5  TV Show           Kota Factory          Unknown   \n",
       "\n",
       "                                                cast        country  \\\n",
       "0                                            Unknown  United States   \n",
       "1  Ama Qamata, Khosi Ngema, Gail Mabalane, Thaban...   South Africa   \n",
       "2  Sami Bouajila, Tracy Gotoas, Samuel Jouy, Nabi...  United States   \n",
       "3                                            Unknown  United States   \n",
       "4  Mayur More, Jitendra Kumar, Ranjan Raj, Alam K...          India   \n",
       "\n",
       "           date_added  release_year rating duration  \\\n",
       "0  September 25, 2021          2020  PG-13       90   \n",
       "1  September 24, 2021          2021  TV-MA        2   \n",
       "2  September 24, 2021          2021  TV-MA        1   \n",
       "3  September 24, 2021          2021  TV-MA        1   \n",
       "4  September 24, 2021          2021  TV-MA        2   \n",
       "\n",
       "                                           listed_in  \\\n",
       "0                                      Documentaries   \n",
       "1    International TV Shows, TV Dramas, TV Mysteries   \n",
       "2  Crime TV Shows, International TV Shows, TV Act...   \n",
       "3                             Docuseries, Reality TV   \n",
       "4  International TV Shows, Romantic TV Shows, TV ...   \n",
       "\n",
       "                                         description  \n",
       "0  As her father nears the end of his life, filmm...  \n",
       "1  After crossing paths at a party, a Cape Town t...  \n",
       "2  To protect his family from a powerful drug lor...  \n",
       "3  Feuds, flirtations and toilet talk go down amo...  \n",
       "4  In a city of coaching centers known to train I...  "
      ]
     },
     "execution_count": 13,
     "metadata": {},
     "output_type": "execute_result"
    }
   ],
   "source": [
    "# Removing characters from duration\n",
    "df.duration=df.duration.apply(lambda x: x.replace (' min', '') if 'min' in x else x)\n",
    "df.duration=df.duration.apply(lambda x: x.replace (' Season', '') if 'Season' in x else x)\n",
    "df.duration=df.duration.apply(lambda x: x.replace ('s', '') if 's' in x else x)\n",
    "df.head()"
   ]
  },
  {
   "cell_type": "markdown",
   "id": "3c72465e",
   "metadata": {},
   "source": [
    "### Adding columns"
   ]
  },
  {
   "cell_type": "code",
   "execution_count": 14,
   "id": "14616352",
   "metadata": {},
   "outputs": [],
   "source": [
    "# Add new columns for time analysis\n",
    "df['date_added_year']=pd.DatetimeIndex(df['date_added']).year\n",
    "df['date_added_month']=pd.DatetimeIndex(df['date_added']).month"
   ]
  },
  {
   "cell_type": "markdown",
   "id": "3cc036da",
   "metadata": {},
   "source": [
    "### Changing to Data Types"
   ]
  },
  {
   "cell_type": "code",
   "execution_count": 15,
   "id": "141e67a4",
   "metadata": {},
   "outputs": [],
   "source": [
    "# Correcting data types\n",
    "df.loc[:,['duration']]=df.loc[:,['duration']].apply(lambda x: x.astype('int64'))\n",
    "df['date_added'] = pd.to_datetime(df['date_added'])"
   ]
  },
  {
   "cell_type": "code",
   "execution_count": 16,
   "id": "ba5bc671",
   "metadata": {},
   "outputs": [
    {
     "name": "stdout",
     "output_type": "stream",
     "text": [
      "<class 'pandas.core.frame.DataFrame'>\n",
      "Int64Index: 8793 entries, 0 to 8806\n",
      "Data columns (total 14 columns):\n",
      " #   Column            Non-Null Count  Dtype         \n",
      "---  ------            --------------  -----         \n",
      " 0   show_id           8793 non-null   object        \n",
      " 1   type              8793 non-null   object        \n",
      " 2   title             8793 non-null   object        \n",
      " 3   director          8793 non-null   object        \n",
      " 4   cast              8793 non-null   object        \n",
      " 5   country           8793 non-null   object        \n",
      " 6   date_added        8793 non-null   datetime64[ns]\n",
      " 7   release_year      8793 non-null   int64         \n",
      " 8   rating            8793 non-null   object        \n",
      " 9   duration          8793 non-null   int64         \n",
      " 10  listed_in         8793 non-null   object        \n",
      " 11  description       8793 non-null   object        \n",
      " 12  date_added_year   8793 non-null   int64         \n",
      " 13  date_added_month  8793 non-null   int64         \n",
      "dtypes: datetime64[ns](1), int64(4), object(9)\n",
      "memory usage: 1.0+ MB\n"
     ]
    }
   ],
   "source": [
    "df.info()"
   ]
  },
  {
   "cell_type": "code",
   "execution_count": 17,
   "id": "0828216e",
   "metadata": {
    "scrolled": true
   },
   "outputs": [
    {
     "data": {
      "text/html": [
       "<div>\n",
       "<style scoped>\n",
       "    .dataframe tbody tr th:only-of-type {\n",
       "        vertical-align: middle;\n",
       "    }\n",
       "\n",
       "    .dataframe tbody tr th {\n",
       "        vertical-align: top;\n",
       "    }\n",
       "\n",
       "    .dataframe thead th {\n",
       "        text-align: right;\n",
       "    }\n",
       "</style>\n",
       "<table border=\"1\" class=\"dataframe\">\n",
       "  <thead>\n",
       "    <tr style=\"text-align: right;\">\n",
       "      <th></th>\n",
       "      <th>release_year</th>\n",
       "      <th>duration</th>\n",
       "      <th>date_added_year</th>\n",
       "      <th>date_added_month</th>\n",
       "    </tr>\n",
       "  </thead>\n",
       "  <tbody>\n",
       "    <tr>\n",
       "      <th>count</th>\n",
       "      <td>8793.000000</td>\n",
       "      <td>8793.000000</td>\n",
       "      <td>8793.000000</td>\n",
       "      <td>8793.000000</td>\n",
       "    </tr>\n",
       "    <tr>\n",
       "      <th>mean</th>\n",
       "      <td>2014.183100</td>\n",
       "      <td>69.936086</td>\n",
       "      <td>2018.872740</td>\n",
       "      <td>6.655976</td>\n",
       "    </tr>\n",
       "    <tr>\n",
       "      <th>std</th>\n",
       "      <td>8.824128</td>\n",
       "      <td>50.786024</td>\n",
       "      <td>1.574023</td>\n",
       "      <td>3.435754</td>\n",
       "    </tr>\n",
       "    <tr>\n",
       "      <th>min</th>\n",
       "      <td>1925.000000</td>\n",
       "      <td>1.000000</td>\n",
       "      <td>2008.000000</td>\n",
       "      <td>1.000000</td>\n",
       "    </tr>\n",
       "    <tr>\n",
       "      <th>25%</th>\n",
       "      <td>2013.000000</td>\n",
       "      <td>2.000000</td>\n",
       "      <td>2018.000000</td>\n",
       "      <td>4.000000</td>\n",
       "    </tr>\n",
       "    <tr>\n",
       "      <th>50%</th>\n",
       "      <td>2017.000000</td>\n",
       "      <td>88.000000</td>\n",
       "      <td>2019.000000</td>\n",
       "      <td>7.000000</td>\n",
       "    </tr>\n",
       "    <tr>\n",
       "      <th>75%</th>\n",
       "      <td>2019.000000</td>\n",
       "      <td>106.000000</td>\n",
       "      <td>2020.000000</td>\n",
       "      <td>10.000000</td>\n",
       "    </tr>\n",
       "    <tr>\n",
       "      <th>max</th>\n",
       "      <td>2021.000000</td>\n",
       "      <td>312.000000</td>\n",
       "      <td>2021.000000</td>\n",
       "      <td>12.000000</td>\n",
       "    </tr>\n",
       "  </tbody>\n",
       "</table>\n",
       "</div>"
      ],
      "text/plain": [
       "       release_year     duration  date_added_year  date_added_month\n",
       "count   8793.000000  8793.000000      8793.000000       8793.000000\n",
       "mean    2014.183100    69.936086      2018.872740          6.655976\n",
       "std        8.824128    50.786024         1.574023          3.435754\n",
       "min     1925.000000     1.000000      2008.000000          1.000000\n",
       "25%     2013.000000     2.000000      2018.000000          4.000000\n",
       "50%     2017.000000    88.000000      2019.000000          7.000000\n",
       "75%     2019.000000   106.000000      2020.000000         10.000000\n",
       "max     2021.000000   312.000000      2021.000000         12.000000"
      ]
     },
     "execution_count": 17,
     "metadata": {},
     "output_type": "execute_result"
    }
   ],
   "source": [
    "df.describe()"
   ]
  },
  {
   "cell_type": "markdown",
   "id": "55bdf1b0",
   "metadata": {},
   "source": [
    "### Creating subset data"
   ]
  },
  {
   "cell_type": "code",
   "execution_count": 18,
   "id": "5b694d01",
   "metadata": {},
   "outputs": [
    {
     "name": "stdout",
     "output_type": "stream",
     "text": [
      "     show_id         director\n",
      "0         s1  Kirsten Johnson\n",
      "1         s2          Unknown\n",
      "2         s3  Julien Leclercq\n",
      "3         s4          Unknown\n",
      "4         s5          Unknown\n",
      "...      ...              ...\n",
      "8802   s8803    David Fincher\n",
      "8803   s8804          Unknown\n",
      "8804   s8805  Ruben Fleischer\n",
      "8805   s8806     Peter Hewitt\n",
      "8806   s8807      Mozez Singh\n",
      "\n",
      "[9598 rows x 2 columns]\n"
     ]
    }
   ],
   "source": [
    "# # Creating a new list of directors with showid\n",
    "director_s = df[['show_id','director']]\n",
    "director_s = (director_s.drop('director', axis=1)\n",
    "        .join (director_s.director.str.split(', ', expand = True).stack().reset_index(drop=True,level=1).rename('director')))\n",
    "print(director_s)"
   ]
  },
  {
   "cell_type": "code",
   "execution_count": 19,
   "id": "f43263f7",
   "metadata": {},
   "outputs": [
    {
     "name": "stdout",
     "output_type": "stream",
     "text": [
      "     show_id                   cast\n",
      "0         s1                Unknown\n",
      "1         s2             Ama Qamata\n",
      "1         s2            Khosi Ngema\n",
      "1         s2          Gail Mabalane\n",
      "1         s2         Thabang Molaba\n",
      "...      ...                    ...\n",
      "8806   s8807       Manish Chaudhary\n",
      "8806   s8807           Meghna Malik\n",
      "8806   s8807          Malkeet Rauni\n",
      "8806   s8807         Anita Shabdish\n",
      "8806   s8807  Chittaranjan Tripathy\n",
      "\n",
      "[64844 rows x 2 columns]\n"
     ]
    }
   ],
   "source": [
    "# Creating a new list of cast with showid\n",
    "cast_s = df[['show_id','cast']]\n",
    "cast_s = (cast_s.drop('cast', axis=1)\n",
    "        .join (cast_s.cast.str.split(', ', expand = True).stack().reset_index(drop=True,level=1).rename('cast')))\n",
    "print(cast_s)"
   ]
  },
  {
   "cell_type": "code",
   "execution_count": 20,
   "id": "78f21ea2",
   "metadata": {},
   "outputs": [
    {
     "name": "stdout",
     "output_type": "stream",
     "text": [
      "     show_id                 listed_in\n",
      "0         s1             Documentaries\n",
      "1         s2    International TV Shows\n",
      "1         s2                 TV Dramas\n",
      "1         s2              TV Mysteries\n",
      "2         s3            Crime TV Shows\n",
      "...      ...                       ...\n",
      "8805   s8806  Children & Family Movies\n",
      "8805   s8806                  Comedies\n",
      "8806   s8807                    Dramas\n",
      "8806   s8807      International Movies\n",
      "8806   s8807          Music & Musicals\n",
      "\n",
      "[19297 rows x 2 columns]\n"
     ]
    }
   ],
   "source": [
    "# Creating a new list of genre with showid\n",
    "genre_s = df[['show_id','listed_in']]\n",
    "genre_s = (genre_s.drop('listed_in', axis=1)\n",
    "        .join (genre_s.listed_in.str.split(', ', expand = True).stack().reset_index(drop=True,level=1).rename('listed_in')))\n",
    "print(genre_s)"
   ]
  },
  {
   "cell_type": "code",
   "execution_count": 21,
   "id": "9d38ce52",
   "metadata": {},
   "outputs": [
    {
     "name": "stdout",
     "output_type": "stream",
     "text": [
      "     show_id        country\n",
      "0         s1  United States\n",
      "1         s2   South Africa\n",
      "2         s3  United States\n",
      "3         s4  United States\n",
      "4         s5          India\n",
      "...      ...            ...\n",
      "8802   s8803  United States\n",
      "8803   s8804  United States\n",
      "8804   s8805  United States\n",
      "8805   s8806  United States\n",
      "8806   s8807          India\n",
      "\n",
      "[10829 rows x 2 columns]\n"
     ]
    },
    {
     "name": "stderr",
     "output_type": "stream",
     "text": [
      "C:\\Users\\jaroo\\anaconda3\\lib\\site-packages\\pandas\\core\\series.py:4509: SettingWithCopyWarning: \n",
      "A value is trying to be set on a copy of a slice from a DataFrame\n",
      "\n",
      "See the caveats in the documentation: https://pandas.pydata.org/pandas-docs/stable/user_guide/indexing.html#returning-a-view-versus-a-copy\n",
      "  return super().replace(\n"
     ]
    }
   ],
   "source": [
    "# Creating a new list of country with showid\n",
    "country_s =pd.DataFrame()\n",
    "country_s = df[['show_id','country']]\n",
    "country_s['country'].replace(\", South Korea\",\"South Korea\",inplace = True)\n",
    "country_s['country'].replace(\", France, Algeria\",\"France, Algeria\",inplace = True)\n",
    "country_s['country'].replace(\"United Kingdom,\",\"United Kingdom\",inplace = True)\n",
    "country_s['country'].replace(\"France, Belgium, Luxembourg, Cambodia,\",\"France, Belgium, Luxembourg, Cambodia\",inplace = True)\n",
    "country_s['country'].replace(\"United States,\",\"United States\",inplace = True)\n",
    "country_s['country'].replace(\"Poland,\",\"Poland\",inplace = True)\n",
    "country_s = (country_s.drop('country', axis=1)\n",
    "        .join (country_s.country.str.split(', ', expand = True).stack().reset_index(drop=True,level=1).rename('country')))\n",
    "print(country_s)"
   ]
  },
  {
   "cell_type": "markdown",
   "id": "78fe9f47",
   "metadata": {},
   "source": [
    "### Python script to load data into PBI"
   ]
  },
  {
   "cell_type": "code",
   "execution_count": null,
   "id": "3f8db717",
   "metadata": {},
   "outputs": [],
   "source": [
    "import pandas as pd\n",
    "import numpy as np\n",
    "\n",
    "# Read from saved file\n",
    "df = pd.read_csv(r\"C:\\Users\\jaroo\\OneDrive\\Documents\\netflix_titles.csv\") # <change the file path>\n",
    "\n",
    "# Correcting manual input by replacing rating to duration\n",
    "df.loc[df['director']=='Louis C.K.','duration'] =df['rating']\n",
    "df.loc[df['director']=='Louis C.K.','rating'] ='Unknown'\n",
    "\n",
    "# dropping rows fpr small percentages if nulls \n",
    "df.dropna(subset=['rating','date_added'],axis=0, inplace=True)\n",
    "\n",
    "# Replace nan values with appropriate values\n",
    "df['country'].replace(np.nan,'United States',inplace = True)\n",
    "df['director'].replace(np.nan, 'Unknown', inplace = True)\n",
    "df['cast'].replace(np.nan,'Unknown', inplace = True)\n",
    "\n",
    "# Dropping duplicates\n",
    "df.drop_duplicates(inplace=True)\n",
    "\n",
    "# Removing characters from duration\n",
    "df.duration=df.duration.apply(lambda x: x.replace (' min', '') if 'min' in x else x)\n",
    "df.duration=df.duration.apply(lambda x: x.replace (' Season', '') if 'Season' in x else x)\n",
    "df.duration=df.duration.apply(lambda x: x.replace ('s', '') if 's' in x else x)\n",
    "\n",
    "# Correcting data types\n",
    "df.loc[:,['duration']]=df.loc[:,['duration']].apply(lambda x: x.astype('int64'))\n",
    "df['date_added'] = pd.to_datetime(df['date_added'])\n",
    "\n",
    "# Add new columns for time analysis\n",
    "df['date_added_year']=pd.DatetimeIndex(df['date_added']).year\n",
    "df['date_added_month']=pd.DatetimeIndex(df['date_added']).month\n",
    "\n",
    "\n",
    "# Mapping tables\n",
    "\n",
    "# Creating a new list of directors with showid\n",
    "director_s = df[['show_id','director']]\n",
    "director_s = (director_s.drop('director', axis=1)\n",
    "        .join (director_s.director.str.split(', ', expand = True).stack().reset_index(drop=True,level=1).rename('director')))\n",
    "\n",
    "# Creating a new list of cast with showid\n",
    "cast_s = df[['show_id','cast']]\n",
    "cast_s = (cast_s.drop('cast', axis=1)\n",
    "        .join (cast_s.cast.str.split(', ', expand = True).stack().reset_index(drop=True,level=1).rename('cast')))\n",
    "\n",
    "# Creating a new list of genre with showid\n",
    "genre_s = df[['show_id','listed_in']]\n",
    "genre_s = (genre_s.drop('listed_in', axis=1)\n",
    "        .join (genre_s.listed_in.str.split(', ', expand = True).stack().reset_index(drop=True,level=1).rename('listed_in')))\n",
    "\n",
    "# Creating a new list of country with showid\n",
    "country_s =pd.DataFrame()\n",
    "country_s = df[['show_id','country']]\n",
    "country_s['country'].replace(\", South Korea\",\"South Korea\",inplace = True)\n",
    "country_s['country'].replace(\", France, Algeria\",\"France, Algeria\",inplace = True)\n",
    "country_s['country'].replace(\"United Kingdom,\",\"United Kingdom\",inplace = True)\n",
    "country_s['country'].replace(\"France, Belgium, Luxembourg, Cambodia,\",\"France, Belgium, Luxembourg, Cambodia\",inplace = True)\n",
    "country_s['country'].replace(\"United States,\",\"United States\",inplace = True)\n",
    "country_s['country'].replace(\"Poland,\",\"Poland\",inplace = True)\n",
    "country_s = (country_s.drop('country', axis=1)\n",
    "        .join (country_s.country.str.split(', ', expand = True).stack().reset_index(drop=True,level=1).rename('country')))\n"
   ]
  },
  {
   "cell_type": "markdown",
   "id": "a23d332c",
   "metadata": {},
   "source": [
    "### Analyse & Validate Data"
   ]
  },
  {
   "cell_type": "code",
   "execution_count": 23,
   "id": "e77aa3c9",
   "metadata": {},
   "outputs": [
    {
     "name": "stdout",
     "output_type": "stream",
     "text": [
      "    release_year  show_id\n",
      "14          2021      592\n",
      "13          2020      953\n",
      "12          2019     1030\n",
      "11          2018     1146\n",
      "10          2017     1031\n",
      "9           2016      901\n",
      "8           2015      556\n",
      "7           2014      352\n",
      "6           2013      286\n",
      "5           2012      236\n",
      "4           2011      185\n",
      "3           2010      193\n",
      "2           2009      152\n",
      "1           2008      135\n",
      "0           2007       88\n"
     ]
    }
   ],
   "source": [
    "# Content Released By Year\n",
    "df1 = df.query('release_year >=2007')\n",
    "df1 = df1.groupby ('release_year') ['show_id'].count().reset_index()\n",
    "df1 = df1.sort_values(by =['release_year'], ascending =False)\n",
    "print(df1)"
   ]
  },
  {
   "cell_type": "code",
   "execution_count": 24,
   "id": "d9c07de3",
   "metadata": {},
   "outputs": [
    {
     "name": "stdout",
     "output_type": "stream",
     "text": [
      "       type  release_year  show_id\n",
      "29  TV Show          2021      315\n",
      "14    Movie          2021      277\n",
      "13    Movie          2020      517\n",
      "28  TV Show          2020      436\n",
      "12    Movie          2019      633\n",
      "27  TV Show          2019      397\n",
      "11    Movie          2018      767\n",
      "26  TV Show          2018      379\n",
      "25  TV Show          2017      265\n",
      "10    Movie          2017      766\n",
      "9     Movie          2016      658\n",
      "24  TV Show          2016      243\n",
      "23  TV Show          2015      159\n",
      "8     Movie          2015      397\n",
      "22  TV Show          2014       88\n",
      "7     Movie          2014      264\n",
      "21  TV Show          2013       61\n",
      "6     Movie          2013      225\n",
      "20  TV Show          2012       63\n",
      "5     Movie          2012      173\n",
      "19  TV Show          2011       40\n",
      "4     Movie          2011      145\n",
      "18  TV Show          2010       39\n",
      "3     Movie          2010      154\n",
      "2     Movie          2009      118\n",
      "17  TV Show          2009       34\n",
      "16  TV Show          2008       22\n",
      "1     Movie          2008      113\n",
      "0     Movie          2007       74\n",
      "15  TV Show          2007       14\n"
     ]
    }
   ],
   "source": [
    "# Content Released By Year/Type\n",
    "df2 = df.query('release_year >=2007')\n",
    "df2 = df2.groupby (['type','release_year']) ['show_id'].count().reset_index()\n",
    "df2 = df2.sort_values(by =['release_year'], ascending =False)\n",
    "print(df2)"
   ]
  },
  {
   "cell_type": "code",
   "execution_count": 25,
   "id": "65e43d41",
   "metadata": {},
   "outputs": [
    {
     "name": "stdout",
     "output_type": "stream",
     "text": [
      "TV-MA       3205\n",
      "TV-14       2157\n",
      "TV-PG        861\n",
      "R            799\n",
      "PG-13        490\n",
      "TV-Y7        333\n",
      "TV-Y         306\n",
      "PG           287\n",
      "TV-G         220\n",
      "NR            79\n",
      "G             41\n",
      "TV-Y7-FV       6\n",
      "UR             3\n",
      "NC-17          3\n",
      "Unknown        3\n",
      "Name: rating, dtype: int64\n"
     ]
    }
   ],
   "source": [
    "# Contents By Rating\n",
    "df3 = df.rating.value_counts()\n",
    "print(df3)"
   ]
  },
  {
   "cell_type": "code",
   "execution_count": 26,
   "id": "a74f7260",
   "metadata": {},
   "outputs": [
    {
     "name": "stdout",
     "output_type": "stream",
     "text": [
      "       type    rating  show_id\n",
      "8     Movie     TV-MA     2062\n",
      "6     Movie     TV-14     1427\n",
      "19  TV Show     TV-MA     1143\n",
      "5     Movie         R      797\n",
      "17  TV Show     TV-14      730\n",
      "9     Movie     TV-PG      540\n",
      "4     Movie     PG-13      490\n",
      "20  TV Show     TV-PG      321\n",
      "3     Movie        PG      287\n",
      "22  TV Show     TV-Y7      194\n",
      "21  TV Show      TV-Y      175\n",
      "11    Movie     TV-Y7      139\n",
      "10    Movie      TV-Y      131\n",
      "7     Movie      TV-G      126\n",
      "18  TV Show      TV-G       94\n",
      "2     Movie        NR       75\n",
      "0     Movie         G       41\n",
      "12    Movie  TV-Y7-FV        5\n",
      "15  TV Show        NR        4\n",
      "14    Movie   Unknown        3\n",
      "13    Movie        UR        3\n",
      "1     Movie     NC-17        3\n",
      "16  TV Show         R        2\n",
      "23  TV Show  TV-Y7-FV        1\n"
     ]
    }
   ],
   "source": [
    "# Contents By Rating/Type\n",
    "df4=df\n",
    "df4 = df4.groupby (['type','rating']) ['show_id'].count().reset_index()\n",
    "df4 = df4.sort_values(by =['show_id'], ascending =False)\n",
    "print(df4)"
   ]
  },
  {
   "cell_type": "code",
   "execution_count": 27,
   "id": "76e0f8a6",
   "metadata": {},
   "outputs": [
    {
     "name": "stdout",
     "output_type": "stream",
     "text": [
      "       type       director  show_id\n",
      "3581  Movie  Rajiv Chilaka       22\n",
      "1816  Movie      Jan Suter       21\n",
      "3632  Movie    Raúl Campos       19\n",
      "4260  Movie    Suhas Kadav       16\n",
      "1861  Movie      Jay Karas       15\n"
     ]
    }
   ],
   "source": [
    "# Top 5 Directors publish more contents\n",
    "ddr = df[['show_id','director','type']]\n",
    "ddr = (ddr.drop('director', axis=1)\n",
    "        .join (ddr.director.str.split(', ', expand = True).stack().reset_index(drop=True,level=1).rename('director')))\n",
    "df22 = ddr[['show_id','type','director']]\n",
    "df22 = df22.groupby (['type','director']) ['show_id'].count().reset_index().sort_values('show_id')\n",
    "# df22 = df22.to_frame()\n",
    "df22 = df22[df22.director != 'Unknown']\n",
    "df22 = df22.sort_values(by =['show_id'], ascending =False)\n",
    "df22 = df22.head(5)\n",
    "print(df22)"
   ]
  },
  {
   "cell_type": "code",
   "execution_count": 28,
   "id": "d987b003",
   "metadata": {},
   "outputs": [
    {
     "name": "stdout",
     "output_type": "stream",
     "text": [
      "         type               director  show_id\n",
      "4923  TV Show              Ken Burns        3\n",
      "4785  TV Show    Alastair Fothergill        3\n",
      "5028  TV Show            Shin Won-ho        2\n",
      "4877  TV Show            Hsu Fu-chun        2\n",
      "4861  TV Show  Gautham Vasudev Menon        2\n"
     ]
    }
   ],
   "source": [
    "# Top 5 Directors publish more contents/type\n",
    "ddr = df[['show_id','director','type']]\n",
    "ddr = (ddr.drop('director', axis=1)\n",
    "        .join (ddr.director.str.split(', ', expand = True).stack().reset_index(drop=True,level=1).rename('director')))\n",
    "df22 = ddr[['show_id','type','director']]\n",
    "df22 = df22.groupby (['type','director']) ['show_id'].count().reset_index().sort_values('show_id')\n",
    "# df22 = df22.to_frame()\n",
    "df22 = df22[df22.director != 'Unknown']\n",
    "df22 = df22[df22.type == 'TV Show']\n",
    "df22 = df22.sort_values(by =['show_id'], ascending =False)\n",
    "df22 = df22.head(5)\n",
    "print(df22)"
   ]
  }
 ],
 "metadata": {
  "kernelspec": {
   "display_name": "Python 3",
   "language": "python",
   "name": "python3"
  },
  "language_info": {
   "codemirror_mode": {
    "name": "ipython",
    "version": 3
   },
   "file_extension": ".py",
   "mimetype": "text/x-python",
   "name": "python",
   "nbconvert_exporter": "python",
   "pygments_lexer": "ipython3",
   "version": "3.8.8"
  }
 },
 "nbformat": 4,
 "nbformat_minor": 5
}
