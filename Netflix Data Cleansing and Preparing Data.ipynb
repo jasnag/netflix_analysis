{
 "cells": [
  {
   "cell_type": "code",
   "execution_count": null,
   "id": "8dc9688e",
   "metadata": {},
   "outputs": [],
   "source": [
    "import pandas as pd\n",
    "import numpy as np"
   ]
  },
  {
   "cell_type": "code",
   "execution_count": null,
   "id": "4b546c2e",
   "metadata": {
    "scrolled": true
   },
   "outputs": [],
   "source": [
    "# Read from saved file\n",
    "df = pd.read_csv(r\"C:\\Users\\jaroo\\OneDrive\\Documents\\netflix_titles.csv\") # <change the file path>\n",
    "df.head()"
   ]
  },
  {
   "cell_type": "markdown",
   "id": "316097e6",
   "metadata": {},
   "source": [
    "### Checking data"
   ]
  },
  {
   "cell_type": "code",
   "execution_count": null,
   "id": "cba72032",
   "metadata": {},
   "outputs": [],
   "source": [
    "# Check the row count\n",
    "df.shape"
   ]
  },
  {
   "cell_type": "code",
   "execution_count": null,
   "id": "149f9493",
   "metadata": {},
   "outputs": [],
   "source": [
    "# To see high level data details\n",
    "df.info()"
   ]
  },
  {
   "cell_type": "code",
   "execution_count": null,
   "id": "0d363c21",
   "metadata": {},
   "outputs": [],
   "source": [
    "# checking for null values\n",
    "df.isnull().sum().sort_values(ascending=False)"
   ]
  },
  {
   "cell_type": "markdown",
   "id": "918f93a7",
   "metadata": {},
   "source": [
    "### Handling Manual input error"
   ]
  },
  {
   "cell_type": "code",
   "execution_count": null,
   "id": "1652911d",
   "metadata": {},
   "outputs": [],
   "source": [
    "# Findout manual input error for duration\n",
    "df[df['duration'].isnull()]"
   ]
  },
  {
   "cell_type": "code",
   "execution_count": null,
   "id": "44054092",
   "metadata": {},
   "outputs": [],
   "source": [
    "# Correcting manual input by replacing rating to duration\n",
    "df.loc[df['director']=='Louis C.K.','duration'] =df['rating']\n",
    "df.loc[df['director']=='Louis C.K.','rating'] ='Unknown'\n",
    "df[df['director']=='Louis C.K.']"
   ]
  },
  {
   "cell_type": "markdown",
   "id": "1353e494",
   "metadata": {},
   "source": [
    "### Handling null values"
   ]
  },
  {
   "cell_type": "code",
   "execution_count": null,
   "id": "9cbf64bb",
   "metadata": {},
   "outputs": [],
   "source": [
    "# Checking the percentage of null values overall\n",
    "round(df.isnull().sum()/df.shape[0]*100,2).sort_values(ascending=False)"
   ]
  },
  {
   "cell_type": "code",
   "execution_count": null,
   "id": "08f32e83",
   "metadata": {},
   "outputs": [],
   "source": [
    "# dropping rows fpr small percentages if nulls \n",
    "df.dropna(subset=['rating','date_added'],axis=0, inplace=True)\n",
    "df.shape"
   ]
  },
  {
   "cell_type": "code",
   "execution_count": null,
   "id": "464e8e06",
   "metadata": {},
   "outputs": [],
   "source": [
    "round(df.isnull().sum()/df.shape[0]*100,2).sort_values(ascending=False)"
   ]
  },
  {
   "cell_type": "code",
   "execution_count": null,
   "id": "67ed09d3",
   "metadata": {},
   "outputs": [],
   "source": [
    "# Replace nan values with appropriate values\n",
    "df['country'].replace(np.nan,'United States',inplace = True)\n",
    "df['director'].replace(np.nan, 'Unknown', inplace = True)\n",
    "df['cast'].replace(np.nan,'Unknown', inplace = True)\n",
    "df.isnull().sum().sort_values(ascending=False)"
   ]
  },
  {
   "cell_type": "markdown",
   "id": "222b645a",
   "metadata": {},
   "source": [
    "### Handling duplicates data"
   ]
  },
  {
   "cell_type": "code",
   "execution_count": null,
   "id": "8c6caa4f",
   "metadata": {},
   "outputs": [],
   "source": [
    "# Dropping duplicates\n",
    "df.drop_duplicates(inplace=True)\n",
    "df.shape"
   ]
  },
  {
   "cell_type": "markdown",
   "id": "70ccbe63",
   "metadata": {},
   "source": [
    "### Changing column type by cleaning column data"
   ]
  },
  {
   "cell_type": "code",
   "execution_count": null,
   "id": "f563380f",
   "metadata": {
    "scrolled": true
   },
   "outputs": [],
   "source": [
    "# Removing characters from duration\n",
    "df.duration=df.duration.apply(lambda x: x.replace (' min', '') if 'min' in x else x)\n",
    "df.duration=df.duration.apply(lambda x: x.replace (' Season', '') if 'Season' in x else x)\n",
    "df.duration=df.duration.apply(lambda x: x.replace ('s', '') if 's' in x else x)\n",
    "df.head()"
   ]
  },
  {
   "cell_type": "markdown",
   "id": "3c72465e",
   "metadata": {},
   "source": [
    "### Adding columns"
   ]
  },
  {
   "cell_type": "code",
   "execution_count": null,
   "id": "14616352",
   "metadata": {},
   "outputs": [],
   "source": [
    "# Add new columns for time analysis\n",
    "df['date_added_year']=pd.DatetimeIndex(df['date_added']).year\n",
    "df['date_added_month']=pd.DatetimeIndex(df['date_added']).month"
   ]
  },
  {
   "cell_type": "markdown",
   "id": "3cc036da",
   "metadata": {},
   "source": [
    "### Changing to Data Types"
   ]
  },
  {
   "cell_type": "code",
   "execution_count": null,
   "id": "141e67a4",
   "metadata": {},
   "outputs": [],
   "source": [
    "# Correcting data types\n",
    "df.loc[:,['duration']]=df.loc[:,['duration']].apply(lambda x: x.astype('int64'))\n",
    "df['date_added'] = pd.to_datetime(df['date_added'])"
   ]
  },
  {
   "cell_type": "code",
   "execution_count": null,
   "id": "ba5bc671",
   "metadata": {},
   "outputs": [],
   "source": [
    "df.info()"
   ]
  },
  {
   "cell_type": "code",
   "execution_count": null,
   "id": "0828216e",
   "metadata": {
    "scrolled": true
   },
   "outputs": [],
   "source": [
    "df.describe()"
   ]
  },
  {
   "cell_type": "markdown",
   "id": "55bdf1b0",
   "metadata": {},
   "source": [
    "### Creating subset data"
   ]
  },
  {
   "cell_type": "code",
   "execution_count": null,
   "id": "5b694d01",
   "metadata": {},
   "outputs": [],
   "source": [
    "# # Creating a new list of directors with showid\n",
    "director_s = df[['show_id','director']]\n",
    "director_s = (director_s.drop('director', axis=1)\n",
    "        .join (director_s.director.str.split(', ', expand = True).stack().reset_index(drop=True,level=1).rename('director')))\n",
    "print(director_s)"
   ]
  },
  {
   "cell_type": "code",
   "execution_count": null,
   "id": "f43263f7",
   "metadata": {},
   "outputs": [],
   "source": [
    "# Creating a new list of cast with showid\n",
    "cast_s = df[['show_id','cast']]\n",
    "cast_s = (cast_s.drop('cast', axis=1)\n",
    "        .join (cast_s.cast.str.split(', ', expand = True).stack().reset_index(drop=True,level=1).rename('cast')))\n",
    "print(cast_s)"
   ]
  },
  {
   "cell_type": "code",
   "execution_count": null,
   "id": "78f21ea2",
   "metadata": {},
   "outputs": [],
   "source": [
    "# Creating a new list of genre with showid\n",
    "genre_s = df[['show_id','listed_in']]\n",
    "genre_s = (genre_s.drop('listed_in', axis=1)\n",
    "        .join (genre_s.listed_in.str.split(', ', expand = True).stack().reset_index(drop=True,level=1).rename('listed_in')))\n",
    "print(genre_s)"
   ]
  },
  {
   "cell_type": "code",
   "execution_count": null,
   "id": "9d38ce52",
   "metadata": {},
   "outputs": [],
   "source": [
    "# Creating a new list of country with showid\n",
    "country_s =pd.DataFrame()\n",
    "country_s = df[['show_id','country']]\n",
    "country_s['country'].replace(\", South Korea\",\"South Korea\",inplace = True)\n",
    "country_s['country'].replace(\", France, Algeria\",\"France, Algeria\",inplace = True)\n",
    "country_s['country'].replace(\"United Kingdom,\",\"United Kingdom\",inplace = True)\n",
    "country_s['country'].replace(\"France, Belgium, Luxembourg, Cambodia,\",\"France, Belgium, Luxembourg, Cambodia\",inplace = True)\n",
    "country_s['country'].replace(\"United States,\",\"United States\",inplace = True)\n",
    "country_s['country'].replace(\"Poland,\",\"Poland\",inplace = True)\n",
    "country_s = (country_s.drop('country', axis=1)\n",
    "        .join (country_s.country.str.split(', ', expand = True).stack().reset_index(drop=True,level=1).rename('country')))\n",
    "print(country_s)"
   ]
  },
  {
   "cell_type": "markdown",
   "id": "78fe9f47",
   "metadata": {},
   "source": [
    "### Python script to load data into PBI"
   ]
  },
  {
   "cell_type": "code",
   "execution_count": null,
   "id": "3f8db717",
   "metadata": {},
   "outputs": [],
   "source": [
    "import pandas as pd\n",
    "import numpy as np\n",
    "\n",
    "# Read from saved file\n",
    "df = pd.read_csv(r\"C:\\Users\\jaroo\\OneDrive\\Documents\\netflix_titles.csv\") # <change the file path>\n",
    "\n",
    "# Correcting manual input by replacing rating to duration\n",
    "df.loc[df['director']=='Louis C.K.','duration'] =df['rating']\n",
    "df.loc[df['director']=='Louis C.K.','rating'] ='Unknown'\n",
    "\n",
    "# dropping rows fpr small percentages if nulls \n",
    "df.dropna(subset=['rating','date_added'],axis=0, inplace=True)\n",
    "\n",
    "# Replace nan values with appropriate values\n",
    "df['country'].replace(np.nan,'United States',inplace = True)\n",
    "df['director'].replace(np.nan, 'Unknown', inplace = True)\n",
    "df['cast'].replace(np.nan,'Unknown', inplace = True)\n",
    "\n",
    "# Dropping duplicates\n",
    "df.drop_duplicates(inplace=True)\n",
    "\n",
    "# Removing characters from duration\n",
    "df.duration=df.duration.apply(lambda x: x.replace (' min', '') if 'min' in x else x)\n",
    "df.duration=df.duration.apply(lambda x: x.replace (' Season', '') if 'Season' in x else x)\n",
    "df.duration=df.duration.apply(lambda x: x.replace ('s', '') if 's' in x else x)\n",
    "\n",
    "# Correcting data types\n",
    "df.loc[:,['duration']]=df.loc[:,['duration']].apply(lambda x: x.astype('int64'))\n",
    "df['date_added'] = pd.to_datetime(df['date_added'])\n",
    "\n",
    "# Add new columns for time analysis\n",
    "df['date_added_year']=pd.DatetimeIndex(df['date_added']).year\n",
    "df['date_added_month']=pd.DatetimeIndex(df['date_added']).month\n",
    "\n",
    "\n",
    "\n",
    "# Mapping tables\n",
    "\n",
    "# Creating a new list of directors with showid\n",
    "director_s = df[['show_id','director']]\n",
    "director_s = (director_s.drop('director', axis=1)\n",
    "        .join (director_s.director.str.split(', ', expand = True).stack().reset_index(drop=True,level=1).rename('director')))\n",
    "\n",
    "# Creating a new list of cast with showid\n",
    "cast_s = df[['show_id','cast']]\n",
    "cast_s = (cast_s.drop('cast', axis=1)\n",
    "        .join (cast_s.cast.str.split(', ', expand = True).stack().reset_index(drop=True,level=1).rename('cast')))\n",
    "\n",
    "# Creating a new list of genre with showid\n",
    "genre_s = df[['show_id','listed_in']]\n",
    "genre_s = (genre_s.drop('listed_in', axis=1)\n",
    "        .join (genre_s.listed_in.str.split(', ', expand = True).stack().reset_index(drop=True,level=1).rename('listed_in')))\n",
    "\n",
    "# Creating a new list of country with showid\n",
    "country_s =pd.DataFrame()\n",
    "country_s = df[['show_id','country']]\n",
    "country_s['country'].replace(\", South Korea\",\"South Korea\",inplace = True)\n",
    "country_s['country'].replace(\", France, Algeria\",\"France, Algeria\",inplace = True)\n",
    "country_s['country'].replace(\"United Kingdom,\",\"United Kingdom\",inplace = True)\n",
    "country_s['country'].replace(\"France, Belgium, Luxembourg, Cambodia,\",\"France, Belgium, Luxembourg, Cambodia\",inplace = True)\n",
    "country_s['country'].replace(\"United States,\",\"United States\",inplace = True)\n",
    "country_s['country'].replace(\"Poland,\",\"Poland\",inplace = True)\n",
    "country_s = (country_s.drop('country', axis=1)\n",
    "        .join (country_s.country.str.split(', ', expand = True).stack().reset_index(drop=True,level=1).rename('country')))\n"
   ]
  },
  {
   "cell_type": "markdown",
   "id": "a23d332c",
   "metadata": {},
   "source": [
    "### Validate Data"
   ]
  },
  {
   "cell_type": "code",
   "execution_count": null,
   "id": "e77aa3c9",
   "metadata": {},
   "outputs": [],
   "source": [
    "# Content Released By Year\n",
    "df1 = df.query('release_year >=2007')\n",
    "df1 = df1.groupby ('release_year') ['show_id'].count().reset_index()\n",
    "df1 = df1.sort_values(by =['release_year'], ascending =False)\n",
    "print(df1)"
   ]
  },
  {
   "cell_type": "code",
   "execution_count": null,
   "id": "d9c07de3",
   "metadata": {},
   "outputs": [],
   "source": [
    "# Content Released By Year/Type\n",
    "df2 = df.query('release_year >=2007')\n",
    "df2 = df2.groupby (['type','release_year']) ['show_id'].count().reset_index()\n",
    "df2 = df2.sort_values(by =['release_year'], ascending =False)\n",
    "print(df2)"
   ]
  },
  {
   "cell_type": "code",
   "execution_count": null,
   "id": "65e43d41",
   "metadata": {},
   "outputs": [],
   "source": [
    "# Contents By Rating\n",
    "df3 = df.rating.value_counts()\n",
    "print(df3)"
   ]
  },
  {
   "cell_type": "code",
   "execution_count": null,
   "id": "a74f7260",
   "metadata": {},
   "outputs": [],
   "source": [
    "# Contents By Rating/Type\n",
    "df4=df\n",
    "df4 = df4.groupby (['type','rating']) ['show_id'].count().reset_index()\n",
    "df4 = df4.sort_values(by =['show_id'], ascending =False)\n",
    "print(df4)"
   ]
  },
  {
   "cell_type": "code",
   "execution_count": null,
   "id": "76e0f8a6",
   "metadata": {},
   "outputs": [],
   "source": [
    "# Top 5 Directors publish more contents\n",
    "ddr = df[['show_id','director','type']]\n",
    "ddr = (ddr.drop('director', axis=1)\n",
    "        .join (ddr.director.str.split(', ', expand = True).stack().reset_index(drop=True,level=1).rename('director')))\n",
    "df22 = ddr[['show_id','type','director']]\n",
    "df22 = df22.groupby (['type','director']) ['show_id'].count().reset_index().sort_values('show_id')\n",
    "# df22 = df22.to_frame()\n",
    "df22 = df22[df22.director != 'Unknown']\n",
    "df22 = df22.sort_values(by =['show_id'], ascending =False)\n",
    "df22 = df22.head(5)\n",
    "print(df22)"
   ]
  },
  {
   "cell_type": "code",
   "execution_count": null,
   "id": "d987b003",
   "metadata": {},
   "outputs": [],
   "source": [
    "# Top 5 Directors publish more contents/type\n",
    "ddr = df[['show_id','director','type']]\n",
    "ddr = (ddr.drop('director', axis=1)\n",
    "        .join (ddr.director.str.split(', ', expand = True).stack().reset_index(drop=True,level=1).rename('director')))\n",
    "df22 = ddr[['show_id','type','director']]\n",
    "df22 = df22.groupby (['type','director']) ['show_id'].count().reset_index().sort_values('show_id')\n",
    "# df22 = df22.to_frame()\n",
    "df22 = df22[df22.director != 'Unknown']\n",
    "df22 = df22[df22.type == 'TV Show']\n",
    "df22 = df22.sort_values(by =['show_id'], ascending =False)\n",
    "df22 = df22.head(5)\n",
    "print(df22)"
   ]
  }
 ],
 "metadata": {
  "kernelspec": {
   "display_name": "Python 3",
   "language": "python",
   "name": "python3"
  },
  "language_info": {
   "codemirror_mode": {
    "name": "ipython",
    "version": 3
   },
   "file_extension": ".py",
   "mimetype": "text/x-python",
   "name": "python",
   "nbconvert_exporter": "python",
   "pygments_lexer": "ipython3",
   "version": "3.8.8"
  }
 },
 "nbformat": 4,
 "nbformat_minor": 5
}
